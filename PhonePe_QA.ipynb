{
 "cells": [
  {
   "cell_type": "code",
   "execution_count": 1,
   "metadata": {},
   "outputs": [],
   "source": [
    "import mysql.connector\n",
    "from pprint import pprint\n",
    "import pandas as pd\n",
    "\n",
    "db = mysql.connector.connect(\n",
    "    host = 'localhost',\n",
    "    user = 'root',\n",
    "    password = 'Nirmal9699',\n",
    "    database = 'phonepe_pulse_data_visualization'\n",
    ")\n",
    "\n",
    "cur = db.cursor()\n",
    "db.commit()"
   ]
  },
  {
   "cell_type": "code",
   "execution_count": 2,
   "metadata": {},
   "outputs": [
    {
     "name": "stdout",
     "output_type": "stream",
     "text": [
      "        State  Year Transaction_Amount_By_Year\n",
      "1  tamil-nadu  2018               104019568191\n",
      "2  tamil-nadu  2019               302562182998\n",
      "3  tamil-nadu  2020               562710808076\n",
      "4  tamil-nadu  2021              1321086760549\n",
      "5  tamil-nadu  2022              2410492817244\n",
      "6  tamil-nadu  2023              2325051489231\n"
     ]
    }
   ],
   "source": [
    "#agg_trans\n",
    "def qust_1(s):\n",
    "    sql = \"\"\"SELECT state State, year Year, ROUND(sum(Transaction_Amount)) Transaction_Year \n",
    "        FROM phonepe_pulse_data_visualization.agg_trans  \n",
    "        WHERE state = %s \n",
    "        GROUP BY year\"\"\"\n",
    "    cur.execute(sql,(s,))\n",
    "    data = cur.fetchall()\n",
    "    data_df = pd.DataFrame(data, columns=['State', 'Year','Transaction_Amount_By_Year']).reset_index(drop=True)\n",
    "    data_df.index += 1\n",
    "    return data_df\n",
    "\n",
    "pprint(qust_1('tamil-nadu'))"
   ]
  },
  {
   "cell_type": "code",
   "execution_count": 3,
   "metadata": {},
   "outputs": [
    {
     "name": "stdout",
     "output_type": "stream",
     "text": [
      "            State Transaction_Count_By_State\n",
      "1     maharashtra                16592144890\n",
      "2       karnataka                15851869593\n",
      "3       telangana                14124623312\n",
      "4  andhra-pradesh                 9248341606\n",
      "5       rajasthan                 8361862049\n",
      "6   uttar-pradesh                 8205216641\n",
      "7  madhya-pradesh                 7025112483\n",
      "8           delhi                 4713503838\n"
     ]
    }
   ],
   "source": [
    "#agg_trans\n",
    "def qust_2():\n",
    "    sql = \"\"\"SELECT state, SUM(Transaction_Count) AS Transaction_Count_By_State \n",
    "            FROM phonepe_pulse_data_visualization.agg_trans \n",
    "            GROUP BY state \n",
    "            ORDER BY Transaction_Count_By_State DESC \n",
    "            LIMIT 8\"\"\"\n",
    "    cur.execute(sql)\n",
    "    data = cur.fetchall()\n",
    "    data_df = pd.DataFrame(data, columns=['State', 'Transaction_Count_By_State']).reset_index(drop=True)\n",
    "    data_df.index += 1\n",
    "    return data_df\n",
    "\n",
    "pprint(qust_2())"
   ]
  },
  {
   "cell_type": "code",
   "execution_count": 4,
   "metadata": {},
   "outputs": [
    {
     "name": "stdout",
     "output_type": "stream",
     "text": [
      "         State  Quarter    Brand Precentage\n",
      "1   tamil-nadu        1   Xiaomi         23\n",
      "2   tamil-nadu        1     Vivo         20\n",
      "3   tamil-nadu        1  Samsung         19\n",
      "4   tamil-nadu        2   Xiaomi         23\n",
      "5   tamil-nadu        2     Vivo         20\n",
      "6   tamil-nadu        2  Samsung         19\n",
      "7   tamil-nadu        3   Xiaomi         23\n",
      "8   tamil-nadu        3     Vivo         21\n",
      "9   tamil-nadu        3  Samsung         18\n",
      "10  tamil-nadu        4   Xiaomi         23\n",
      "11  tamil-nadu        4     Vivo         22\n",
      "12  tamil-nadu        4  Samsung         18\n"
     ]
    }
   ],
   "source": [
    "#agg_user\n",
    "def qust_3(s,y):\n",
    "    sql = \"\"\"WITH SQ AS ( SELECT State,Quarter,Brand,ROUND(User_Percentage * 100) AS Percentage,\n",
    "            ROW_NUMBER() OVER (PARTITION BY Quarter ORDER BY User_Percentage DESC) AS RowNum\n",
    "            FROM phonepe_pulse_data_visualization.agg_user\n",
    "            WHERE State = %s AND Year = %s)\n",
    "            SELECT State,Quarter,Brand,Percentage\n",
    "            FROM SQ\n",
    "            WHERE RowNum <= 3;\"\"\"\n",
    "    cur.execute(sql,(s,y))\n",
    "    data = cur.fetchall()\n",
    "    data_df = pd.DataFrame(data, columns=['State', 'Quarter','Brand','Precentage']).reset_index(drop=True)\n",
    "    data_df.index += 1\n",
    "    return data_df\n",
    "\n",
    "pprint(qust_3('tamil-nadu',2021))"
   ]
  },
  {
   "cell_type": "code",
   "execution_count": 5,
   "metadata": {},
   "outputs": [
    {
     "name": "stdout",
     "output_type": "stream",
     "text": [
      "       State  Quarter  Year               Region           Amount\n",
      "1  telangana        1  2023  rangareddy district  487359310308.00\n",
      "2  telangana        2  2023  rangareddy district  561147925919.00\n",
      "3  telangana        3  2023  rangareddy district  615864362548.00\n"
     ]
    }
   ],
   "source": [
    "#map_trans\n",
    "def qust_4(s,y):\n",
    "    sql = \"\"\"WITH SQ AS (\n",
    "            SELECT State, Quarter, Year, Region, Amount,\n",
    "            ROW_NUMBER() OVER (PARTITION BY Year, Quarter\n",
    "            ORDER BY Amount DESC) AS RowNum\n",
    "            FROM phonepe_pulse_data_visualization.map_trans\n",
    "            WHERE State = %s\n",
    "            )\n",
    "            SELECT State, Quarter, Year, Region, Amount\n",
    "            FROM SQ\n",
    "            WHERE RowNum = 1 and YEAR = %s\"\"\"\n",
    "    cur.execute(sql,(s,y))\n",
    "    data = cur.fetchall()\n",
    "    data_df = pd.DataFrame(data, columns=['State', 'Quarter','Year','Region','Amount']).reset_index(drop=True)\n",
    "    data_df.index += 1\n",
    "    return data_df\n",
    "\n",
    "pprint(qust_4('telangana','2023'))"
   ]
  },
  {
   "cell_type": "code",
   "execution_count": 6,
   "metadata": {},
   "outputs": [
    {
     "name": "stdout",
     "output_type": "stream",
     "text": [
      "         State                    District  Year      Count           Amount\n",
      "1  west-bengal                     kolkata  2018   14679383   21628916825.87\n",
      "2  west-bengal                     kolkata  2019   61291479   77520743688.39\n",
      "3  west-bengal                     kolkata  2020   73618565  157860100499.32\n",
      "4  west-bengal                     kolkata  2021  195758301  388417634006.16\n",
      "5  west-bengal                     kolkata  2022  442825414  849910713054.79\n",
      "6  west-bengal  north twenty four parganas  2023  292875219  452807293280.00\n"
     ]
    }
   ],
   "source": [
    "#top_trans_dis\n",
    "def qust_5(s):\n",
    "    sql = \"\"\"WITH SQ AS (\n",
    "            SELECT State, Year, District, sum(Count) AS Count, sum(Amount) AS Amount,\n",
    "            ROW_NUMBER() OVER (PARTITION BY State, Year ORDER BY sum(Amount) DESC) AS RowNum\n",
    "            FROM phonepe_pulse_data_visualization.top_trans_dis \n",
    "            GROUP BY State,Year, District)\n",
    "            SELECT State, District, Year, Count, Amount\n",
    "            FROM SQ\n",
    "            WHERE State = %s and RowNum = 1\"\"\"\n",
    "    cur.execute(sql,(s,))\n",
    "    data = cur.fetchall()\n",
    "    data_df = pd.DataFrame(data, columns=['State', 'District','Year','Count','Amount']).reset_index(drop=True)\n",
    "    data_df.index += 1\n",
    "    return data_df\n",
    "\n",
    "pprint(qust_5('west-bengal'))"
   ]
  },
  {
   "cell_type": "code",
   "execution_count": 15,
   "metadata": {},
   "outputs": [
    {
     "name": "stdout",
     "output_type": "stream",
     "text": [
      "         State  Year  RowNum                   Region   Count\n",
      "1   tamil-nadu  2018       6         tenkasi district  109739\n",
      "2   tamil-nadu  2018       7    nagapattinam district  115411\n",
      "3   tamil-nadu  2018       8     pudukkottai district  118856\n",
      "4   tamil-nadu  2019       6  ramanathapuram district  259492\n",
      "5   tamil-nadu  2019       7    nagapattinam district  283392\n",
      "6   tamil-nadu  2019       8     pudukkottai district  287686\n",
      "7   tamil-nadu  2020       6  ramanathapuram district  477932\n",
      "8   tamil-nadu  2020       7           karur district  512976\n",
      "9   tamil-nadu  2020       8    nagapattinam district  515404\n",
      "10  tamil-nadu  2021       6  ramanathapuram district  712155\n",
      "11  tamil-nadu  2021       7           karur district  754321\n",
      "12  tamil-nadu  2021       8    nagapattinam district  769669\n",
      "13  tamil-nadu  2022       6  ramanathapuram district  909242\n",
      "14  tamil-nadu  2022       7           karur district  963331\n",
      "15  tamil-nadu  2022       8    nagapattinam district  979578\n",
      "16  tamil-nadu  2023       6  ramanathapuram district  795519\n",
      "17  tamil-nadu  2023       7           karur district  844847\n",
      "18  tamil-nadu  2023       8    nagapattinam district  856966\n"
     ]
    }
   ],
   "source": [
    "#map_user\n",
    "def qust_6(s):\n",
    "    sql = \"\"\"WITH SQ AS (\n",
    "            SELECT State, Year, Region, SUM(Count) AS Count,\n",
    "            ROW_NUMBER() OVER (PARTITION BY Year ORDER BY SUM(Count)) AS RowNum\n",
    "            FROM phonepe_pulse_data_visualization.map_user\n",
    "            WHERE State = %s\n",
    "            GROUP BY State, Year, Region)\n",
    "            SELECT State, Year, RowNum, Region, Count\n",
    "            FROM SQ \n",
    "            WHERE RowNum > 5 AND RowNum <= 8\"\"\"\n",
    "    cur.execute(sql,(s,))\n",
    "    data = cur.fetchall()\n",
    "    data_df = pd.DataFrame(data, columns=['State', 'Year','RowNum','Region','Count']).reset_index(drop=True)\n",
    "    data_df.index += 1\n",
    "    return data_df\n",
    "\n",
    "pprint(qust_6('tamil-nadu'))"
   ]
  },
  {
   "cell_type": "code",
   "execution_count": 19,
   "metadata": {},
   "outputs": [
    {
     "name": "stdout",
     "output_type": "stream",
     "text": [
      "                          State  Year  Quarter Pincode         Amount    Count\n",
      "1     andaman-&-nicobar-islands  2018        1  744101     2769297.90     1622\n",
      "2     andaman-&-nicobar-islands  2018        1  744103     2238041.87     1223\n",
      "3     andaman-&-nicobar-islands  2018        1  744102     3519059.94      969\n",
      "4     andaman-&-nicobar-islands  2018        1  744105     1298560.95      685\n",
      "5     andaman-&-nicobar-islands  2018        1  744104     1039715.31      340\n",
      "...                         ...   ...      ...     ...            ...      ...\n",
      "8206                west-bengal  2023        3  700001  7193521561.00  3536928\n",
      "8207                west-bengal  2023        3  721301  4871566033.00  3464729\n",
      "8208                west-bengal  2023        3  700039  5095824624.00  3405551\n",
      "8209                west-bengal  2023        3  732125  5353831211.00  3347165\n",
      "8210                west-bengal  2023        3  700015  5003673712.00  3304464\n",
      "\n",
      "[8210 rows x 6 columns]\n"
     ]
    }
   ],
   "source": [
    "#top_trans_pin\n",
    "def qust_7():\n",
    "    sql = \"\"\"SELECT * FROM phonepe_pulse_data_visualization.top_trans_pin\"\"\"\n",
    "    cur.execute(sql)\n",
    "    data = cur.fetchall()\n",
    "    data_df = pd.DataFrame(data, columns=['State', 'Year','Quarter','Pincode','Amount','Count']).reset_index(drop=True)\n",
    "    data_df.index += 1\n",
    "    return data_df\n",
    "\n",
    "pprint(qust_7())"
   ]
  },
  {
   "cell_type": "code",
   "execution_count": 22,
   "metadata": {},
   "outputs": [
    {
     "name": "stdout",
     "output_type": "stream",
     "text": [
      "          State                    District     Count\n",
      "1     karnataka             bengaluru urban  16382332\n",
      "2   maharashtra                        pune  10780092\n",
      "3   maharashtra                       thane   6802106\n",
      "4     rajasthan                      jaipur   6745507\n",
      "5   maharashtra             mumbai suburban   6560867\n",
      "6     telangana                   hyderabad   5543537\n",
      "7       gujarat                   ahmadabad   5105557\n",
      "8     telangana                  rangareddy   4809474\n",
      "9   west-bengal  north twenty four parganas   4241525\n",
      "10      gujarat                       surat   4238878\n"
     ]
    }
   ],
   "source": [
    "def qust_8():\n",
    "    sql = \"\"\"SELECT State, District, Round(Count)\n",
    "            FROM phonepe_pulse_data_visualization.top_user_dis\n",
    "            WHERE Year = 2023 and Quarter = 3\n",
    "            ORDER BY Count DESC\n",
    "            LIMIT 10\"\"\"\n",
    "    cur.execute(sql)\n",
    "    data = cur.fetchall()\n",
    "    data_df = pd.DataFrame(data, columns=['State', 'District','Count']).reset_index(drop=True)\n",
    "    data_df.index += 1\n",
    "    return data_df\n",
    "\n",
    "pprint(qust_8())"
   ]
  },
  {
   "cell_type": "code",
   "execution_count": 25,
   "metadata": {},
   "outputs": [
    {
     "name": "stdout",
     "output_type": "stream",
     "text": [
      "                                 State Pincode   Count\n",
      "1            andaman-&-nicobar-islands  744205    2716\n",
      "2                       andhra-pradesh  520001  186511\n",
      "3                    arunachal-pradesh  791120   13685\n",
      "4                                assam  781028   43026\n",
      "5                                bihar  801503  156227\n",
      "6                           chandigarh  160025   24439\n",
      "7                         chhattisgarh  494001  104414\n",
      "8   dadra-&-nagar-haveli-&-daman-&-diu  362570     508\n",
      "9                                delhi  110042  413005\n",
      "10                                 goa  403515   21511\n",
      "11                             gujarat  382345  194466\n",
      "12                             haryana  122004  283114\n",
      "13                    himachal-pradesh  174303   32525\n",
      "14                     jammu-&-kashmir  193224   27379\n",
      "15                           jharkhand  832107   90713\n",
      "16                           karnataka  560079  368803\n",
      "17                              kerala  682032   40897\n",
      "18                              ladakh  194109    3268\n",
      "19                         lakshadweep  682558      48\n",
      "20                      madhya-pradesh  485001  215698\n",
      "21                         maharashtra  421301  370025\n",
      "22                             manipur  795149   17026\n",
      "23                           meghalaya  793150   10672\n",
      "24                             mizoram  796014    4809\n",
      "25                            nagaland  798612   13787\n",
      "26                              odisha  751019  110506\n",
      "27                          puducherry  605013   27482\n",
      "28                              punjab  144001  117565\n",
      "29                           rajasthan  302017  273466\n",
      "30                              sikkim  737103   10993\n",
      "31                          tamil-nadu  600042  132448\n",
      "32                           telangana  500013  278523\n",
      "33                             tripura  799205   18913\n",
      "34                       uttar-pradesh  202001  329040\n",
      "35                         uttarakhand  249404   83422\n",
      "36                         west-bengal  734006  113991\n"
     ]
    }
   ],
   "source": [
    "def qust_9():\n",
    "    sql = \"\"\"WITH SQ as (\n",
    "            SELECT State, Pincode, Round(Count) AS Count, Year, Quarter,\n",
    "            ROW_NUMBER() OVER (PARTITION BY State ORDER BY Count) AS RowNum\n",
    "            FROM phonepe_pulse_data_visualization.top_user_pin\n",
    "            WHERE Year = 2023 and Quarter = 3)\n",
    "            SELECT State, Pincode, Count\n",
    "            FROM SQ\n",
    "            WHERE RowNum = 1\"\"\"\n",
    "    cur.execute(sql)\n",
    "    data = cur.fetchall()\n",
    "    data_df = pd.DataFrame(data, columns=['State', 'Pincode','Count']).reset_index(drop=True)\n",
    "    data_df.index += 1\n",
    "    return data_df\n",
    "\n",
    "pprint(qust_9())"
   ]
  },
  {
   "cell_type": "code",
   "execution_count": 26,
   "metadata": {},
   "outputs": [
    {
     "name": "stdout",
     "output_type": "stream",
     "text": [
      "                                 State Precentage\n",
      "1                            telangana      42.00\n",
      "2                       andhra-pradesh      36.00\n",
      "3                            karnataka      36.00\n",
      "4                          maharashtra      35.00\n",
      "5                            rajasthan      22.00\n",
      "6                                delhi      15.00\n",
      "7                       madhya-pradesh      14.00\n",
      "8                        uttar-pradesh      14.00\n",
      "9                          west-bengal      13.00\n",
      "10                               bihar      11.00\n",
      "11                             gujarat      10.00\n",
      "12                              odisha      10.00\n",
      "13                          tamil-nadu      10.00\n",
      "14                             haryana       8.00\n",
      "15                           jharkhand       5.00\n",
      "16                        chhattisgarh       4.00\n",
      "17                              kerala       4.00\n",
      "18                               assam       3.00\n",
      "19                              punjab       3.00\n",
      "20                         uttarakhand       2.00\n",
      "21                                 goa       1.00\n",
      "22                    himachal-pradesh       1.00\n",
      "23                     jammu-&-kashmir       1.00\n",
      "24                             mizoram       0.00\n",
      "25                            nagaland       0.00\n",
      "26  dadra-&-nagar-haveli-&-daman-&-diu       0.00\n",
      "27                          puducherry       0.00\n",
      "28                              ladakh       0.00\n",
      "29           andaman-&-nicobar-islands       0.00\n",
      "30                              sikkim       0.00\n",
      "31                   arunachal-pradesh       0.00\n",
      "32                          chandigarh       0.00\n",
      "33                             tripura       0.00\n",
      "34                             manipur       0.00\n",
      "35                           meghalaya       0.00\n",
      "36                         lakshadweep       0.00\n"
     ]
    }
   ],
   "source": [
    "def qust_10():\n",
    "    sql = \"\"\"SELECT State, ROUND((Sum(Amount)/Total_Amount),2)*100 AS Percentage\n",
    "            FROM (SELECT Sum(Amount) AS Total_Amount \n",
    "            FROM phonepe_pulse_data_visualization.top_trans_dis\n",
    "            WHERE Year = 2023) AS SQ\n",
    "            JOIN phonepe_pulse_data_visualization.top_trans_dis AS M\n",
    "            GROUP BY State, Total_Amount\n",
    "            ORDER BY Percentage DESC\"\"\"\n",
    "    cur.execute(sql)\n",
    "    data = cur.fetchall()\n",
    "    data_df = pd.DataFrame(data, columns=['State','Precentage']).reset_index(drop=True)\n",
    "    data_df.index += 1\n",
    "    return data_df\n",
    "\n",
    "pprint(qust_10())"
   ]
  }
 ],
 "metadata": {
  "kernelspec": {
   "display_name": "Python 3",
   "language": "python",
   "name": "python3"
  },
  "language_info": {
   "codemirror_mode": {
    "name": "ipython",
    "version": 3
   },
   "file_extension": ".py",
   "mimetype": "text/x-python",
   "name": "python",
   "nbconvert_exporter": "python",
   "pygments_lexer": "ipython3",
   "version": "3.11.5"
  }
 },
 "nbformat": 4,
 "nbformat_minor": 2
}
